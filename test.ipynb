{
 "cells": [
  {
   "cell_type": "markdown",
   "id": "0ab8b333",
   "metadata": {},
   "source": [
    "# Code de test"
   ]
  },
  {
   "cell_type": "code",
   "execution_count": 1,
   "id": "09a83557",
   "metadata": {},
   "outputs": [],
   "source": [
    "import app as m"
   ]
  },
  {
   "cell_type": "code",
   "execution_count": 2,
   "id": "ecc5e0a4",
   "metadata": {},
   "outputs": [
    {
     "name": "stdout",
     "output_type": "stream",
     "text": [
      "Augereau\n",
      "\n",
      "Bonjour la famille Schorter !\n"
     ]
    }
   ],
   "source": [
    "fam1 = m.famille(\"Augereau\")\n",
    "print(fam1.nom + \"\\n\")\n",
    "\n",
    "fam1.nom = \"Schorter\"\n",
    "fam1.hello_nom()"
   ]
  },
  {
   "cell_type": "code",
   "execution_count": 3,
   "id": "b1d1929f",
   "metadata": {},
   "outputs": [
    {
     "name": "stdout",
     "output_type": "stream",
     "text": [
      "Bonjour la famille Montbron !\n",
      "ou devrais-je dire de Montbron\n"
     ]
    }
   ],
   "source": [
    "fam2 = m.famille_part(\"de\", \"Montbron\")\n",
    "fam2.hello_nom()"
   ]
  },
  {
   "cell_type": "code",
   "execution_count": 4,
   "id": "16802a31",
   "metadata": {},
   "outputs": [
    {
     "name": "stdout",
     "output_type": "stream",
     "text": [
      "Bonjour Gilles Schorter\n"
     ]
    }
   ],
   "source": [
    "moi = m.personne(\"Gilles\", fam1)\n",
    "moi.bonjour()"
   ]
  },
  {
   "cell_type": "code",
   "execution_count": 5,
   "id": "1ef0a848",
   "metadata": {},
   "outputs": [
    {
     "name": "stdout",
     "output_type": "stream",
     "text": [
      "<mpi4py.MPI.Intracomm object at 0x7f2ab03dfb40> 0\n"
     ]
    }
   ],
   "source": [
    "from mpi4py import MPI\n",
    "\n",
    "comm = MPI.COMM_WORLD\n",
    "rank = comm.Get_rank()\n",
    "print(comm, rank)"
   ]
  }
 ],
 "metadata": {
  "kernelspec": {
   "display_name": "Python 3 (ipykernel)",
   "language": "python",
   "name": "python3"
  },
  "language_info": {
   "codemirror_mode": {
    "name": "ipython",
    "version": 3
   },
   "file_extension": ".py",
   "mimetype": "text/x-python",
   "name": "python",
   "nbconvert_exporter": "python",
   "pygments_lexer": "ipython3",
   "version": "3.8.10"
  }
 },
 "nbformat": 4,
 "nbformat_minor": 5
}
