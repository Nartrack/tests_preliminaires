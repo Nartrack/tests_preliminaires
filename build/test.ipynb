{
 "cells": [
  {
   "cell_type": "markdown",
   "id": "0ab8b333",
   "metadata": {},
   "source": [
    "# Code de test"
   ]
  },
  {
   "cell_type": "code",
   "execution_count": 1,
   "id": "09a83557",
   "metadata": {},
   "outputs": [
    {
     "ename": "ModuleNotFoundError",
     "evalue": "No module named 'main'",
     "output_type": "error",
     "traceback": [
      "\u001b[0;31m---------------------------------------------------------------------------\u001b[0m",
      "\u001b[0;31mModuleNotFoundError\u001b[0m                       Traceback (most recent call last)",
      "\u001b[0;32m/tmp/ipykernel_4463/4006920979.py\u001b[0m in \u001b[0;36m<module>\u001b[0;34m\u001b[0m\n\u001b[0;32m----> 1\u001b[0;31m \u001b[0;32mimport\u001b[0m \u001b[0mmain\u001b[0m \u001b[0;32mas\u001b[0m \u001b[0mm\u001b[0m\u001b[0;34m\u001b[0m\u001b[0;34m\u001b[0m\u001b[0m\n\u001b[0m",
      "\u001b[0;31mModuleNotFoundError\u001b[0m: No module named 'main'"
     ]
    }
   ],
   "source": [
    "import main as m"
   ]
  },
  {
   "cell_type": "code",
   "execution_count": null,
   "id": "ecc5e0a4",
   "metadata": {},
   "outputs": [],
   "source": [
    "fam1 = m.famille(\"Augereau\")\n",
    "print(fam1.nom + \"\\n\")\n",
    "\n",
    "fam1.nom = \"Schorter\"\n",
    "fam1.hello_nom()"
   ]
  },
  {
   "cell_type": "code",
   "execution_count": null,
   "id": "b1d1929f",
   "metadata": {},
   "outputs": [],
   "source": [
    "fam2 = m.famille_part(\"de\", \"Montbron\")\n",
    "fam2.hello_nom()"
   ]
  },
  {
   "cell_type": "code",
   "execution_count": null,
   "id": "16802a31",
   "metadata": {},
   "outputs": [],
   "source": [
    "moi = m.personne(\"Gilles\", fam1)\n",
    "moi.bonjour()"
   ]
  },
  {
   "cell_type": "code",
   "execution_count": null,
   "id": "1ef0a848",
   "metadata": {},
   "outputs": [],
   "source": []
  }
 ],
 "metadata": {
  "kernelspec": {
   "display_name": "Python 3 (ipykernel)",
   "language": "python",
   "name": "python3"
  },
  "language_info": {
   "codemirror_mode": {
    "name": "ipython",
    "version": 3
   },
   "file_extension": ".py",
   "mimetype": "text/x-python",
   "name": "python",
   "nbconvert_exporter": "python",
   "pygments_lexer": "ipython3",
   "version": "3.8.10"
  }
 },
 "nbformat": 4,
 "nbformat_minor": 5
}
